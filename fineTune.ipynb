{
 "cells": [
  {
   "cell_type": "code",
   "execution_count": 1,
   "metadata": {},
   "outputs": [],
   "source": [
    "import os\n",
    "import json\n",
    "import shutil\n",
    "from tqdm.notebook import tqdm"
   ]
  },
  {
   "cell_type": "code",
   "execution_count": 18,
   "metadata": {},
   "outputs": [
    {
     "data": {
      "text/plain": [
       "626"
      ]
     },
     "execution_count": 18,
     "metadata": {},
     "output_type": "execute_result"
    }
   ],
   "source": [
    "a = os.listdir('./finetuneData/key')\n",
    "len(a)"
   ]
  },
  {
   "cell_type": "code",
   "execution_count": 24,
   "metadata": {},
   "outputs": [],
   "source": [
    "datasetType = \"train\" #or \"validation\" or \"test\"\n",
    "lines = []\n",
    "images = []\n",
    "for ann in (os.listdir(\"./finetuneData/key\")[:100]): #TODO change indices here for different kinds of dataset\n",
    "  if ann != \".ipynb_checkpoints\":\n",
    "      with open(\"./finetuneData/key/\" + ann) as f:\n",
    "          data = json.load(f)\n",
    "          images.append(ann[:-4] + \"jpg\")\n",
    "          line = {\"gt_parse\": data}\n",
    "          lines.append(line)\n",
    "\n",
    "with open(f\"./preparedFinetuneData/{datasetType}/metadata.jsonl\", 'w') as f:\n",
    "  for i, gt_parse in enumerate(lines):\n",
    "    line = {\"file_name\": images[i], \"ground_truth\": json.dumps(gt_parse)}\n",
    "    f.write(json.dumps(line) + \"\\n\")\n",
    "    shutil.copyfile(\"./finetuneData/img/\" + images[i], f\"./preparedFinetuneData/{datasetType}/\" + images[i])"
   ]
  },
  {
   "cell_type": "code",
   "execution_count": 23,
   "metadata": {},
   "outputs": [],
   "source": [
    "## "
   ]
  },
  {
   "cell_type": "markdown",
   "metadata": {},
   "source": [
    "## heisann"
   ]
  },
  {
   "cell_type": "markdown",
   "metadata": {},
   "source": []
  }
 ],
 "metadata": {
  "kernelspec": {
   "display_name": "venv",
   "language": "python",
   "name": "python3"
  },
  "language_info": {
   "codemirror_mode": {
    "name": "ipython",
    "version": 3
   },
   "file_extension": ".py",
   "mimetype": "text/x-python",
   "name": "python",
   "nbconvert_exporter": "python",
   "pygments_lexer": "ipython3",
   "version": "3.10.4"
  },
  "orig_nbformat": 4
 },
 "nbformat": 4,
 "nbformat_minor": 2
}
